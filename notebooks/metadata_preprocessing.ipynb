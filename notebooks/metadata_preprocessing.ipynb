{
 "cells": [
  {
   "cell_type": "markdown",
   "id": "05dca6fd-deec-4870-b372-6f3b9e5c24e2",
   "metadata": {},
   "source": [
    "Goal of this notebook is to map the metadata and data in bronze to a silver table, with different rules for each of the four types of values.\n",
    "\n",
    "In particular: \n",
    "- small categorical features get one-hot encoded (so 1 column with 7 types will become 7 columns)\n",
    "- binary values are mapped to True, optionally False, and optionally NULL"
   ]
  },
  {
   "cell_type": "code",
   "execution_count": 3,
   "metadata": {},
   "outputs": [
    {
     "data": {
      "text/plain": [
       "'/home/jonoepd/Projects/census/spark/notebooks'"
      ]
     },
     "execution_count": 3,
     "metadata": {},
     "output_type": "execute_result"
    }
   ],
   "source": [
    "%load "
   ]
  },
  {
   "cell_type": "code",
   "execution_count": 1,
   "id": "171e9566-6f9d-4ff4-a1b2-dc654d9fd077",
   "metadata": {},
   "outputs": [
    {
     "name": "stderr",
     "output_type": "stream",
     "text": [
      "UsageError: Cell magic `%%sql` not found.\n"
     ]
    }
   ],
   "source": [
    "%%sql\n",
    "\n",
    "DESCRIBE TABLE nessie.bronze.ddm"
   ]
  },
  {
   "cell_type": "code",
   "execution_count": 2,
   "id": "ae533c7a-edd5-49fd-bea0-a240701d0f61",
   "metadata": {},
   "outputs": [
    {
     "ename": "NameError",
     "evalue": "name 'spark' is not defined",
     "output_type": "error",
     "traceback": [
      "\u001b[0;31m---------------------------------------------------------------------------\u001b[0m",
      "\u001b[0;31mNameError\u001b[0m                                 Traceback (most recent call last)",
      "\u001b[1;32m/home/jonoepd/Projects/census/spark/notebooks/metadata_preprocessing.ipynb Cell 3\u001b[0m line \u001b[0;36m6\n\u001b[1;32m      <a href='vscode-notebook-cell://wsl%2Bubuntu/home/jonoepd/Projects/census/spark/notebooks/metadata_preprocessing.ipynb#W2sdnNjb2RlLXJlbW90ZQ%3D%3D?line=2'>3</a>\u001b[0m \u001b[39mimport\u001b[39;00m \u001b[39mpyspark\u001b[39;00m\u001b[39m.\u001b[39;00m\u001b[39msql\u001b[39;00m\u001b[39m.\u001b[39;00m\u001b[39mfunctions\u001b[39;00m \u001b[39mas\u001b[39;00m \u001b[39mpys_fn\u001b[39;00m\n\u001b[1;32m      <a href='vscode-notebook-cell://wsl%2Bubuntu/home/jonoepd/Projects/census/spark/notebooks/metadata_preprocessing.ipynb#W2sdnNjb2RlLXJlbW90ZQ%3D%3D?line=4'>5</a>\u001b[0m \u001b[39m# test out our query\u001b[39;00m\n\u001b[0;32m----> <a href='vscode-notebook-cell://wsl%2Bubuntu/home/jonoepd/Projects/census/spark/notebooks/metadata_preprocessing.ipynb#W2sdnNjb2RlLXJlbW90ZQ%3D%3D?line=5'>6</a>\u001b[0m df \u001b[39m=\u001b[39m spark\u001b[39m.\u001b[39msql(\u001b[39m\"\u001b[39m\u001b[39mSELECT * FROM nessie.bronze.ddm WHERE cardinality = \u001b[39m\u001b[39m'\u001b[39m\u001b[39msmall categorical\u001b[39m\u001b[39m'\u001b[39m\u001b[39m\"\u001b[39m)\n\u001b[1;32m      <a href='vscode-notebook-cell://wsl%2Bubuntu/home/jonoepd/Projects/census/spark/notebooks/metadata_preprocessing.ipynb#W2sdnNjb2RlLXJlbW90ZQ%3D%3D?line=6'>7</a>\u001b[0m df\u001b[39m.\u001b[39mwithColumn(\n\u001b[1;32m      <a href='vscode-notebook-cell://wsl%2Bubuntu/home/jonoepd/Projects/census/spark/notebooks/metadata_preprocessing.ipynb#W2sdnNjb2RlLXJlbW90ZQ%3D%3D?line=7'>8</a>\u001b[0m     \u001b[39m\"\u001b[39m\u001b[39mT\u001b[39m\u001b[39m\"\u001b[39m, pys_fn\u001b[39m.\u001b[39marrays_zip(\u001b[39m\"\u001b[39m\u001b[39mcodes\u001b[39m\u001b[39m\"\u001b[39m, \u001b[39m\"\u001b[39m\u001b[39mtexts\u001b[39m\u001b[39m\"\u001b[39m)\n\u001b[1;32m      <a href='vscode-notebook-cell://wsl%2Bubuntu/home/jonoepd/Projects/census/spark/notebooks/metadata_preprocessing.ipynb#W2sdnNjb2RlLXJlbW90ZQ%3D%3D?line=8'>9</a>\u001b[0m )\u001b[39m.\u001b[39mwithColumn(\n\u001b[0;32m   (...)\u001b[0m\n\u001b[1;32m     <a href='vscode-notebook-cell://wsl%2Bubuntu/home/jonoepd/Projects/census/spark/notebooks/metadata_preprocessing.ipynb#W2sdnNjb2RlLXJlbW90ZQ%3D%3D?line=11'>12</a>\u001b[0m     \u001b[39m\"\u001b[39m\u001b[39mfield\u001b[39m\u001b[39m\"\u001b[39m, pys_fn\u001b[39m.\u001b[39mcol(\u001b[39m\"\u001b[39m\u001b[39mT.codes\u001b[39m\u001b[39m\"\u001b[39m), pys_fn\u001b[39m.\u001b[39mcol(\u001b[39m\"\u001b[39m\u001b[39mT.texts\u001b[39m\u001b[39m\"\u001b[39m)\n\u001b[1;32m     <a href='vscode-notebook-cell://wsl%2Bubuntu/home/jonoepd/Projects/census/spark/notebooks/metadata_preprocessing.ipynb#W2sdnNjb2RlLXJlbW90ZQ%3D%3D?line=12'>13</a>\u001b[0m )\u001b[39m.\u001b[39mshow()\n",
      "\u001b[0;31mNameError\u001b[0m: name 'spark' is not defined"
     ]
    }
   ],
   "source": [
    "# spark DF has some helpful functions that are a bit of a mix between sqlalchemy and pandas\n",
    "# T here is just a table name, not some special keyword.\n",
    "import pyspark.sql.functions as pys_fn\n",
    "\n",
    "# test out our query\n",
    "df = spark.sql(\"SELECT * FROM nessie.bronze.ddm WHERE cardinality = 'small categorical'\")\n",
    "df.withColumn(\n",
    "    \"T\", pys_fn.arrays_zip(\"codes\", \"texts\")\n",
    ").withColumn(\n",
    "    \"T\", pys_fn.explode(\"T\")\n",
    ").select(\n",
    "    \"field\", pys_fn.col(\"T.codes\"), pys_fn.col(\"T.texts\")\n",
    ").show()"
   ]
  },
  {
   "cell_type": "code",
   "execution_count": 153,
   "id": "3dcf46ab-1a0b-4cf1-9e48-2ecc60a43ee8",
   "metadata": {},
   "outputs": [],
   "source": [
    "# now that we're satisfied it works, filter out the columns we don't care about.\n",
    "\n",
    "import metadata\n",
    "md_cols = [ m.column for m in metadata.METADATA_LIST] # we use that a lot maybe make a function?"
   ]
  },
  {
   "cell_type": "code",
   "execution_count": 112,
   "id": "113ff355-652d-4d64-84ce-1aced42521e4",
   "metadata": {},
   "outputs": [
    {
     "name": "stdout",
     "output_type": "stream",
     "text": [
      "+-----+--------+--------------------+\n",
      "|field|   codes|               texts|\n",
      "+-----+--------+--------------------+\n",
      "| DRAT|null_str|N/A (No service-c...|\n",
      "| DRAT|       1|           0 percent|\n",
      "| DRAT|       2|    10 or 20 percent|\n",
      "| DRAT|       3|    30 or 40 percent|\n",
      "| DRAT|       4|    50 or 60 percent|\n",
      "| DRAT|       5|70, 80, 90, or 10...|\n",
      "| DRAT|       6|        Not reported|\n",
      "|  ENG|null_str|N/A (less than 5 ...|\n",
      "|  ENG|       1|           Very well|\n",
      "|  ENG|       2|                Well|\n",
      "|  ENG|       3|            Not well|\n",
      "|  ENG|       4|          Not at all|\n",
      "|  MAR|       1|             Married|\n",
      "|  MAR|       2|             Widowed|\n",
      "|  MAR|       3|            Divorced|\n",
      "|  MAR|       4|           Separated|\n",
      "|  MAR|       5|Never married or ...|\n",
      "|  MIL|null_str|N/A (less than 17...|\n",
      "|  MIL|       1|  Now on active duty|\n",
      "|  MIL|       2|On active duty in...|\n",
      "+-----+--------+--------------------+\n",
      "only showing top 20 rows\n",
      "\n"
     ]
    }
   ],
   "source": [
    "# now run the query from above w/ filtering\n",
    "# we'll use Spark.DataFrame instead of the spark.sql syntax now. \n",
    "# notice how similar it is to pandas (can even do .loc and .iloc, except now it's parallelized!)\n",
    "# but with the query sugar of sqlalchemy!\n",
    "\n",
    "from pyspark.sql.functions import col\n",
    "df = spark.table(\"nessie.bronze.ddm\")\n",
    "df_expl = df.where(df.cardinality == 'small categorical')[df.field.isin(md_cols)].withColumn(\n",
    "    \"T\", pys_fn.arrays_zip(\"codes\", \"texts\")\n",
    ").withColumn(\n",
    "    \"T\", pys_fn.explode(\"T\")\n",
    ").select(\n",
    "    \"field\", pys_fn.col(\"T.codes\"), pys_fn.col(\"T.texts\")\n",
    ").sort(\"field\")\n",
    "df_expl.show()\n",
    "df_expl.createOrReplaceTempView(\"df_expl\")"
   ]
  },
  {
   "cell_type": "code",
   "execution_count": 140,
   "id": "827ed181-910c-40aa-a0b3-2cf5e0350a14",
   "metadata": {},
   "outputs": [
    {
     "name": "stdout",
     "output_type": "stream",
     "text": [
      "+-------------+-----+----+--------------------+\n",
      "|silver_column|field|code|                text|\n",
      "+-------------+-----+----+--------------------+\n",
      "|    DRAT_NULL| DRAT|NULL|N/A (No service-c...|\n",
      "|       DRAT_1| DRAT|   1|           0 percent|\n",
      "|       DRAT_2| DRAT|   2|    10 or 20 percent|\n",
      "|       DRAT_3| DRAT|   3|    30 or 40 percent|\n",
      "|       DRAT_4| DRAT|   4|    50 or 60 percent|\n",
      "|       DRAT_5| DRAT|   5|70, 80, 90, or 10...|\n",
      "|       DRAT_6| DRAT|   6|        Not reported|\n",
      "|     ENG_NULL|  ENG|NULL|N/A (less than 5 ...|\n",
      "|        ENG_1|  ENG|   1|           Very well|\n",
      "|        ENG_2|  ENG|   2|                Well|\n",
      "|        ENG_3|  ENG|   3|            Not well|\n",
      "|        ENG_4|  ENG|   4|          Not at all|\n",
      "|        MAR_1|  MAR|   1|             Married|\n",
      "|        MAR_2|  MAR|   2|             Widowed|\n",
      "|        MAR_3|  MAR|   3|            Divorced|\n",
      "|        MAR_4|  MAR|   4|           Separated|\n",
      "|        MAR_5|  MAR|   5|Never married or ...|\n",
      "|     MIL_NULL|  MIL|NULL|N/A (less than 17...|\n",
      "|        MIL_1|  MIL|   1|  Now on active duty|\n",
      "|        MIL_2|  MIL|   2|On active duty in...|\n",
      "+-------------+-----+----+--------------------+\n",
      "only showing top 20 rows\n",
      "\n"
     ]
    }
   ],
   "source": [
    "df_smallcat = spark.sql(\"\"\"\n",
    "SELECT CONCAT(field, \"_\", COALESCE(code, 'NULL')) AS silver_column, field, CAST (code AS int), text\n",
    "FROM (\n",
    "    SELECT field, CASE codes WHEN 'null_str' THEN NULL ELSE codes END code, texts AS text\n",
    "    FROM df_expl )\n",
    "    \"\"\"\n",
    ")\n",
    "# we will use this df to generate more features for our silver table\n",
    "df_smallcat.show()"
   ]
  },
  {
   "cell_type": "code",
   "execution_count": 130,
   "id": "4828f144-1889-4fb1-b9c5-eace423dd773",
   "metadata": {},
   "outputs": [
    {
     "name": "stdout",
     "output_type": "stream",
     "text": [
      "+-------------+---------+-------+\n",
      "|     col_name|data_type|comment|\n",
      "+-------------+---------+-------+\n",
      "|silver_column|   string|   NULL|\n",
      "|        field|   string|   NULL|\n",
      "|         code|      int|   NULL|\n",
      "|         text|   string|   NULL|\n",
      "+-------------+---------+-------+\n",
      "\n"
     ]
    }
   ],
   "source": [
    "# best practice for CTAS is to create the df before insert\n",
    "spark.sql(\"CREATE NAMESPACE IF NOT EXISTS nessie.silver\")\n",
    "# let's further divide the silver tables into a metadata (md) namespace\n",
    "spark.sql(\"CREATE NAMESPACE IF NOT EXISTS nessie.silver.md\")\n",
    "\n",
    "df_smallcat.limit(0).writeTo(\"nessie.silver.md.smallcat\").createOrReplace()\n",
    "spark.sql(\"DESCRIBE TABLE nessie.silver.md.smallcat\").show()"
   ]
  },
  {
   "cell_type": "code",
   "execution_count": 131,
   "id": "be620741-e804-4dcd-ad0f-58e7acb0f863",
   "metadata": {},
   "outputs": [],
   "source": [
    "# okay now we can insert\n",
    "df_smallcat.writeTo(\"nessie.silver.md.smallcat\").append()"
   ]
  },
  {
   "cell_type": "code",
   "execution_count": 132,
   "id": "fa64771c-95de-410c-8f4f-dd7ac1c20740",
   "metadata": {},
   "outputs": [
    {
     "name": "stdout",
     "output_type": "stream",
     "text": [
      "+-------------+-----+----+--------------------+\n",
      "|silver_column|field|code|                text|\n",
      "+-------------+-----+----+--------------------+\n",
      "|    DRAT_NULL| DRAT|NULL|N/A (No service-c...|\n",
      "|       DRAT_1| DRAT|   1|           0 percent|\n",
      "|       DRAT_2| DRAT|   2|    10 or 20 percent|\n",
      "|       DRAT_3| DRAT|   3|    30 or 40 percent|\n",
      "|       DRAT_4| DRAT|   4|    50 or 60 percent|\n",
      "|       DRAT_5| DRAT|   5|70, 80, 90, or 10...|\n",
      "|       DRAT_6| DRAT|   6|        Not reported|\n",
      "|     ENG_NULL|  ENG|NULL|N/A (less than 5 ...|\n",
      "|        ENG_1|  ENG|   1|           Very well|\n",
      "|        ENG_2|  ENG|   2|                Well|\n",
      "+-------------+-----+----+--------------------+\n",
      "only showing top 10 rows\n",
      "\n"
     ]
    }
   ],
   "source": [
    "spark.sql(\"SELECT * FROM nessie.silver.md.smallcat\").show(10)"
   ]
  },
  {
   "cell_type": "code",
   "execution_count": 206,
   "id": "99dc04f5-d25b-4e54-833a-97fcd491a42e",
   "metadata": {},
   "outputs": [
    {
     "data": {
      "text/html": [
       "<div>\n",
       "<style scoped>\n",
       "    .dataframe tbody tr th:only-of-type {\n",
       "        vertical-align: middle;\n",
       "    }\n",
       "\n",
       "    .dataframe tbody tr th {\n",
       "        vertical-align: top;\n",
       "    }\n",
       "\n",
       "    .dataframe thead th {\n",
       "        text-align: right;\n",
       "    }\n",
       "</style>\n",
       "<table border=\"1\" class=\"dataframe\">\n",
       "  <thead>\n",
       "    <tr style=\"text-align: right;\">\n",
       "      <th></th>\n",
       "      <th>field</th>\n",
       "      <th>codes</th>\n",
       "      <th>has_null</th>\n",
       "      <th>texts</th>\n",
       "      <th>code_true</th>\n",
       "      <th>code_false</th>\n",
       "    </tr>\n",
       "  </thead>\n",
       "  <tbody>\n",
       "    <tr>\n",
       "      <th>0</th>\n",
       "      <td>ADJINC</td>\n",
       "      <td>[1042311, 1042311]</td>\n",
       "      <td>0</td>\n",
       "      <td>[2022 factor (1.042311), 2022 factor (1.042311)]</td>\n",
       "      <td>1042311</td>\n",
       "      <td>NULL</td>\n",
       "    </tr>\n",
       "    <tr>\n",
       "      <th>1</th>\n",
       "      <td>ADJINC</td>\n",
       "      <td>[1042311, 1042311]</td>\n",
       "      <td>0</td>\n",
       "      <td>[2022 factor (1.042311), 2022 factor (1.042311)]</td>\n",
       "      <td>1042311</td>\n",
       "      <td>NULL</td>\n",
       "    </tr>\n",
       "    <tr>\n",
       "      <th>2</th>\n",
       "      <td>DEAR</td>\n",
       "      <td>[1, 2]</td>\n",
       "      <td>0</td>\n",
       "      <td>[Yes, No]</td>\n",
       "      <td>1</td>\n",
       "      <td>2</td>\n",
       "    </tr>\n",
       "    <tr>\n",
       "      <th>3</th>\n",
       "      <td>DEYE</td>\n",
       "      <td>[1, 2]</td>\n",
       "      <td>0</td>\n",
       "      <td>[Yes, No]</td>\n",
       "      <td>1</td>\n",
       "      <td>2</td>\n",
       "    </tr>\n",
       "    <tr>\n",
       "      <th>4</th>\n",
       "      <td>DIS</td>\n",
       "      <td>[1, 2]</td>\n",
       "      <td>0</td>\n",
       "      <td>[With a disability, Without a disability]</td>\n",
       "      <td>1</td>\n",
       "      <td>2</td>\n",
       "    </tr>\n",
       "    <tr>\n",
       "      <th>5</th>\n",
       "      <td>DOUT</td>\n",
       "      <td>[null_str, 1, 2]</td>\n",
       "      <td>1</td>\n",
       "      <td>[N/A (Less than 15 years old), Yes, No]</td>\n",
       "      <td>1</td>\n",
       "      <td>2</td>\n",
       "    </tr>\n",
       "    <tr>\n",
       "      <th>6</th>\n",
       "      <td>DPHY</td>\n",
       "      <td>[null_str, 1, 2]</td>\n",
       "      <td>1</td>\n",
       "      <td>[N/A (Less than 5 years old), Yes, No]</td>\n",
       "      <td>1</td>\n",
       "      <td>2</td>\n",
       "    </tr>\n",
       "    <tr>\n",
       "      <th>7</th>\n",
       "      <td>HINS1</td>\n",
       "      <td>[1, 2]</td>\n",
       "      <td>0</td>\n",
       "      <td>[Yes, No]</td>\n",
       "      <td>1</td>\n",
       "      <td>2</td>\n",
       "    </tr>\n",
       "    <tr>\n",
       "      <th>8</th>\n",
       "      <td>HINS2</td>\n",
       "      <td>[1, 2]</td>\n",
       "      <td>0</td>\n",
       "      <td>[Yes, No]</td>\n",
       "      <td>1</td>\n",
       "      <td>2</td>\n",
       "    </tr>\n",
       "    <tr>\n",
       "      <th>9</th>\n",
       "      <td>HINS3</td>\n",
       "      <td>[1, 2]</td>\n",
       "      <td>0</td>\n",
       "      <td>[Yes, No]</td>\n",
       "      <td>1</td>\n",
       "      <td>2</td>\n",
       "    </tr>\n",
       "    <tr>\n",
       "      <th>10</th>\n",
       "      <td>HINS4</td>\n",
       "      <td>[1, 2]</td>\n",
       "      <td>0</td>\n",
       "      <td>[Yes, No]</td>\n",
       "      <td>1</td>\n",
       "      <td>2</td>\n",
       "    </tr>\n",
       "    <tr>\n",
       "      <th>11</th>\n",
       "      <td>HINS5</td>\n",
       "      <td>[1, 2]</td>\n",
       "      <td>0</td>\n",
       "      <td>[Yes, No]</td>\n",
       "      <td>1</td>\n",
       "      <td>2</td>\n",
       "    </tr>\n",
       "    <tr>\n",
       "      <th>12</th>\n",
       "      <td>HINS6</td>\n",
       "      <td>[1, 2]</td>\n",
       "      <td>0</td>\n",
       "      <td>[Yes, No]</td>\n",
       "      <td>1</td>\n",
       "      <td>2</td>\n",
       "    </tr>\n",
       "    <tr>\n",
       "      <th>13</th>\n",
       "      <td>HINS7</td>\n",
       "      <td>[1, 2]</td>\n",
       "      <td>0</td>\n",
       "      <td>[Yes, No]</td>\n",
       "      <td>1</td>\n",
       "      <td>2</td>\n",
       "    </tr>\n",
       "    <tr>\n",
       "      <th>14</th>\n",
       "      <td>MLPA</td>\n",
       "      <td>[null_str, 0, 1]</td>\n",
       "      <td>1</td>\n",
       "      <td>[N/A (less than 17 years old/no active duty), ...</td>\n",
       "      <td>0</td>\n",
       "      <td>1</td>\n",
       "    </tr>\n",
       "    <tr>\n",
       "      <th>15</th>\n",
       "      <td>MLPB</td>\n",
       "      <td>[null_str, 0, 1]</td>\n",
       "      <td>1</td>\n",
       "      <td>[N/A (less than 17 years old/no active duty), ...</td>\n",
       "      <td>0</td>\n",
       "      <td>1</td>\n",
       "    </tr>\n",
       "    <tr>\n",
       "      <th>16</th>\n",
       "      <td>NATIVITY</td>\n",
       "      <td>[1, 2]</td>\n",
       "      <td>0</td>\n",
       "      <td>[Native, Foreign born]</td>\n",
       "      <td>1</td>\n",
       "      <td>2</td>\n",
       "    </tr>\n",
       "    <tr>\n",
       "      <th>17</th>\n",
       "      <td>PUMA</td>\n",
       "      <td>[81003, 81003]</td>\n",
       "      <td>0</td>\n",
       "      <td>[Public use microdata area codes, Public use m...</td>\n",
       "      <td>81003</td>\n",
       "      <td>NULL</td>\n",
       "    </tr>\n",
       "    <tr>\n",
       "      <th>18</th>\n",
       "      <td>PUMA</td>\n",
       "      <td>[81003, 81003]</td>\n",
       "      <td>0</td>\n",
       "      <td>[Public use microdata area codes, Public use m...</td>\n",
       "      <td>81003</td>\n",
       "      <td>NULL</td>\n",
       "    </tr>\n",
       "    <tr>\n",
       "      <th>19</th>\n",
       "      <td>RACNUM</td>\n",
       "      <td>[6]</td>\n",
       "      <td>0</td>\n",
       "      <td>[Race groups]</td>\n",
       "      <td>6</td>\n",
       "      <td>NULL</td>\n",
       "    </tr>\n",
       "    <tr>\n",
       "      <th>20</th>\n",
       "      <td>SEX</td>\n",
       "      <td>[1, 2]</td>\n",
       "      <td>0</td>\n",
       "      <td>[Male, Female]</td>\n",
       "      <td>1</td>\n",
       "      <td>2</td>\n",
       "    </tr>\n",
       "  </tbody>\n",
       "</table>\n",
       "</div>"
      ],
      "text/plain": [
       "       field               codes  has_null  \\\n",
       "0     ADJINC  [1042311, 1042311]         0   \n",
       "1     ADJINC  [1042311, 1042311]         0   \n",
       "2       DEAR              [1, 2]         0   \n",
       "3       DEYE              [1, 2]         0   \n",
       "4        DIS              [1, 2]         0   \n",
       "5       DOUT    [null_str, 1, 2]         1   \n",
       "6       DPHY    [null_str, 1, 2]         1   \n",
       "7      HINS1              [1, 2]         0   \n",
       "8      HINS2              [1, 2]         0   \n",
       "9      HINS3              [1, 2]         0   \n",
       "10     HINS4              [1, 2]         0   \n",
       "11     HINS5              [1, 2]         0   \n",
       "12     HINS6              [1, 2]         0   \n",
       "13     HINS7              [1, 2]         0   \n",
       "14      MLPA    [null_str, 0, 1]         1   \n",
       "15      MLPB    [null_str, 0, 1]         1   \n",
       "16  NATIVITY              [1, 2]         0   \n",
       "17      PUMA      [81003, 81003]         0   \n",
       "18      PUMA      [81003, 81003]         0   \n",
       "19    RACNUM                 [6]         0   \n",
       "20       SEX              [1, 2]         0   \n",
       "\n",
       "                                                texts code_true code_false  \n",
       "0    [2022 factor (1.042311), 2022 factor (1.042311)]   1042311       NULL  \n",
       "1    [2022 factor (1.042311), 2022 factor (1.042311)]   1042311       NULL  \n",
       "2                                           [Yes, No]         1          2  \n",
       "3                                           [Yes, No]         1          2  \n",
       "4           [With a disability, Without a disability]         1          2  \n",
       "5             [N/A (Less than 15 years old), Yes, No]         1          2  \n",
       "6              [N/A (Less than 5 years old), Yes, No]         1          2  \n",
       "7                                           [Yes, No]         1          2  \n",
       "8                                           [Yes, No]         1          2  \n",
       "9                                           [Yes, No]         1          2  \n",
       "10                                          [Yes, No]         1          2  \n",
       "11                                          [Yes, No]         1          2  \n",
       "12                                          [Yes, No]         1          2  \n",
       "13                                          [Yes, No]         1          2  \n",
       "14  [N/A (less than 17 years old/no active duty), ...         0          1  \n",
       "15  [N/A (less than 17 years old/no active duty), ...         0          1  \n",
       "16                             [Native, Foreign born]         1          2  \n",
       "17  [Public use microdata area codes, Public use m...     81003       NULL  \n",
       "18  [Public use microdata area codes, Public use m...     81003       NULL  \n",
       "19                                      [Race groups]         6       NULL  \n",
       "20                                     [Male, Female]         1          2  "
      ]
     },
     "execution_count": 206,
     "metadata": {},
     "output_type": "execute_result"
    }
   ],
   "source": [
    "# okay done with the setup for small categorical columns. \n",
    "import numpy as np\n",
    "df_b = df.where(df.cardinality == 'binary')[df.field.isin(md_cols)]\n",
    "# the logic here will be easier in pandas!\n",
    "cols = [\"field\", \"codes\", \"has_null\", \"texts\"]\n",
    "pdf_b = df_b.select(cols).toPandas()\n",
    "null_idx = [ codes[0] == \"null_str\" for codes in pdf_b[\"codes\"] ]\n",
    "code_true = np.array([ codes[0+isnull] for isnull, codes in zip(null_idx, pdf_b[\"codes\"]) ])\n",
    "code_false = np.array([ codes[1+isnull] if len(codes) > 1 else 'NULL' for isnull, codes in zip(null_idx, pdf_b[\"codes\"])  ])\n",
    "# guard against error if true and false are marked as same for some reason\n",
    "code_false[code_true == code_false] = \"NULL\"\n",
    "pdf_b[\"code_true\"] = code_true\n",
    "pdf_b[\"code_false\"] = code_false\n",
    "pdf_b"
   ]
  },
  {
   "cell_type": "code",
   "execution_count": 207,
   "id": "da3e6eed-10bd-444e-a26b-e1b43c762022",
   "metadata": {},
   "outputs": [
    {
     "name": "stderr",
     "output_type": "stream",
     "text": [
      "/opt/spark/python/pyspark/sql/pandas/conversion.py:485: FutureWarning: is_datetime64tz_dtype is deprecated and will be removed in a future version. Check `isinstance(dtype, pd.DatetimeTZDtype)` instead.\n",
      "  if should_localize and is_datetime64tz_dtype(s.dtype) and s.dt.tz is not None:\n"
     ]
    },
    {
     "name": "stdout",
     "output_type": "stream",
     "text": [
      "+--------+------------------+--------+--------------------+---------+----------+\n",
      "|   field|             codes|has_null|               texts|code_true|code_false|\n",
      "+--------+------------------+--------+--------------------+---------+----------+\n",
      "|  ADJINC|[1042311, 1042311]|       0|[2022 factor (1.0...|  1042311|      NULL|\n",
      "|  ADJINC|[1042311, 1042311]|       0|[2022 factor (1.0...|  1042311|      NULL|\n",
      "|    DEAR|            [1, 2]|       0|           [Yes, No]|        1|         2|\n",
      "|    DEYE|            [1, 2]|       0|           [Yes, No]|        1|         2|\n",
      "|     DIS|            [1, 2]|       0|[With a disabilit...|        1|         2|\n",
      "|    DOUT|  [null_str, 1, 2]|       1|[N/A (Less than 1...|        1|         2|\n",
      "|    DPHY|  [null_str, 1, 2]|       1|[N/A (Less than 5...|        1|         2|\n",
      "|   HINS1|            [1, 2]|       0|           [Yes, No]|        1|         2|\n",
      "|   HINS2|            [1, 2]|       0|           [Yes, No]|        1|         2|\n",
      "|   HINS3|            [1, 2]|       0|           [Yes, No]|        1|         2|\n",
      "|   HINS4|            [1, 2]|       0|           [Yes, No]|        1|         2|\n",
      "|   HINS5|            [1, 2]|       0|           [Yes, No]|        1|         2|\n",
      "|   HINS6|            [1, 2]|       0|           [Yes, No]|        1|         2|\n",
      "|   HINS7|            [1, 2]|       0|           [Yes, No]|        1|         2|\n",
      "|    MLPA|  [null_str, 0, 1]|       1|[N/A (less than 1...|        0|         1|\n",
      "|    MLPB|  [null_str, 0, 1]|       1|[N/A (less than 1...|        0|         1|\n",
      "|NATIVITY|            [1, 2]|       0|[Native, Foreign ...|        1|         2|\n",
      "|    PUMA|    [81003, 81003]|       0|[Public use micro...|    81003|      NULL|\n",
      "|    PUMA|    [81003, 81003]|       0|[Public use micro...|    81003|      NULL|\n",
      "|  RACNUM|               [6]|       0|       [Race groups]|        6|      NULL|\n",
      "|     SEX|            [1, 2]|       0|      [Male, Female]|        1|         2|\n",
      "+--------+------------------+--------+--------------------+---------+----------+\n",
      "\n"
     ]
    }
   ],
   "source": [
    "spark.createDataFrame(pdf_b).writeTo(\"nessie.silver.md.binary\").createOrReplace()\n",
    "spark.sql(\"SELECT * FROM nessie.silver.md.binary\").show(40) # check everything is ok"
   ]
  },
  {
   "cell_type": "code",
   "execution_count": 224,
   "id": "5082125e-359c-41bd-a7b0-636b3fd071ef",
   "metadata": {},
   "outputs": [
    {
     "name": "stdout",
     "output_type": "stream",
     "text": [
      "+--------+--------------------+--------------------+--------------------+\n",
      "|   field|               codes|               texts|           name_text|\n",
      "+--------+--------------------+--------------------+--------------------+\n",
      "|   ANC1P|[1, 3, 5, 8, 9, 1...|[Alsatian, Austri...|Recoded Detailed ...|\n",
      "|   ANC2P|[1, 3, 5, 8, 9, 1...|[Alsatian, Austri...|Recoded Detailed ...|\n",
      "|DIVISION|[0, 1, 2, 3, 4, 5...|[Puerto Rico, New...|Division code bas...|\n",
      "|DIVISION|[0, 1, 2, 3, 4, 5...|[Puerto Rico, New...|Division code bas...|\n",
      "|   FOD1P|[null_str, 1100, ...|[N/A (less than b...|Recoded field of ...|\n",
      "+--------+--------------------+--------------------+--------------------+\n",
      "only showing top 5 rows\n",
      "\n"
     ]
    }
   ],
   "source": [
    "# create large categorical and number fields. nothing fancy yet. \n",
    "# we'll use largecat later to compute category aggregates\n",
    "df_lc = df.where(df.cardinality == 'large categorical')[df.field.isin(md_cols)].select(\"field\", \"codes\", \"texts\", \"name_text\")\n",
    "df_lc.writeTo(\"nessie.silver.md.largecat\").createOrReplace()\n",
    "df_lc.show(5)"
   ]
  },
  {
   "cell_type": "code",
   "execution_count": 225,
   "id": "0efd21ea-c69b-49e1-8d7f-4f6b6e28204a",
   "metadata": {},
   "outputs": [
    {
     "name": "stdout",
     "output_type": "stream",
     "text": [
      "+------+--------------------+--------------------+--------------------+\n",
      "| field|               codes|               texts|           name_text|\n",
      "+------+--------------------+--------------------+--------------------+\n",
      "|  AGEP|             [0, 99]|[Under 1 year, 1 ...|                 Age|\n",
      "|MARHYP|[null_str, 1943, ...|[N/A (age less th...|   Year last married|\n",
      "|   OIP|[null_str, 0, 99999]|[N/A (less than 1...|All other income ...|\n",
      "|   PAP|[null_str, 0, 30000]|[N/A (less than 1...|Public assistance...|\n",
      "| PERNP|[null_str, 0, -10...|[N/A (less than 1...|Total person's ea...|\n",
      "+------+--------------------+--------------------+--------------------+\n",
      "only showing top 5 rows\n",
      "\n"
     ]
    }
   ],
   "source": [
    "df_num = df.where(df.cardinality == 'number')[df.field.isin(md_cols)].select(\"field\", \"codes\", \"texts\", \"name_text\")\n",
    "df_num.writeTo(\"nessie.silver.md.number\").createOrReplace()\n",
    "df_num.show(5)"
   ]
  },
  {
   "cell_type": "code",
   "execution_count": 229,
   "id": "0285d35a-d9e5-40ee-8687-34b760b53e82",
   "metadata": {},
   "outputs": [
    {
     "data": {
      "text/html": [
       "<table>\n",
       "    <thead>\n",
       "        <tr>\n",
       "            <th>namespace</th>\n",
       "            <th>tableName</th>\n",
       "            <th>isTemporary</th>\n",
       "        </tr>\n",
       "    </thead>\n",
       "    <tbody>\n",
       "        <tr>\n",
       "            <td>bronze</td>\n",
       "            <td>census</td>\n",
       "            <td>False</td>\n",
       "        </tr>\n",
       "        <tr>\n",
       "            <td>bronze</td>\n",
       "            <td>ddm</td>\n",
       "            <td>False</td>\n",
       "        </tr>\n",
       "        <tr>\n",
       "            <td>silver.md</td>\n",
       "            <td>binary</td>\n",
       "            <td>False</td>\n",
       "        </tr>\n",
       "        <tr>\n",
       "            <td>silver.md</td>\n",
       "            <td>largecat</td>\n",
       "            <td>False</td>\n",
       "        </tr>\n",
       "        <tr>\n",
       "            <td>silver.md</td>\n",
       "            <td>number</td>\n",
       "            <td>False</td>\n",
       "        </tr>\n",
       "        <tr>\n",
       "            <td>silver.md</td>\n",
       "            <td>smallcat</td>\n",
       "            <td>False</td>\n",
       "        </tr>\n",
       "        <tr>\n",
       "            <td>stage</td>\n",
       "            <td>census</td>\n",
       "            <td>False</td>\n",
       "        </tr>\n",
       "        <tr>\n",
       "            <td>stage</td>\n",
       "            <td>dd</td>\n",
       "            <td>False</td>\n",
       "        </tr>\n",
       "    </tbody>\n",
       "</table>"
      ],
      "text/plain": [
       "+-----------+-----------+-------------+\n",
       "| namespace | tableName | isTemporary |\n",
       "+-----------+-----------+-------------+\n",
       "|    bronze |    census |       False |\n",
       "|    bronze |       ddm |       False |\n",
       "| silver.md |    binary |       False |\n",
       "| silver.md |  largecat |       False |\n",
       "| silver.md |    number |       False |\n",
       "| silver.md |  smallcat |       False |\n",
       "|     stage |    census |       False |\n",
       "|     stage |        dd |       False |\n",
       "+-----------+-----------+-------------+"
      ]
     },
     "execution_count": 229,
     "metadata": {},
     "output_type": "execute_result"
    }
   ],
   "source": [
    "%%sql\n",
    "-- check everything is ok \n",
    "SHOW TABLES IN nessie"
   ]
  },
  {
   "cell_type": "code",
   "execution_count": 220,
   "id": "2e4fa49a-fbec-4de0-a812-b08e14ba9635",
   "metadata": {},
   "outputs": [
    {
     "data": {
      "text/html": [
       "<table>\n",
       "    <thead>\n",
       "        <tr>\n",
       "            <th>col_name</th>\n",
       "            <th>data_type</th>\n",
       "            <th>comment</th>\n",
       "        </tr>\n",
       "    </thead>\n",
       "    <tbody>\n",
       "        <tr>\n",
       "            <td>field</td>\n",
       "            <td>string</td>\n",
       "            <td>None</td>\n",
       "        </tr>\n",
       "        <tr>\n",
       "            <td>codes</td>\n",
       "            <td>array&lt;string&gt;</td>\n",
       "            <td>None</td>\n",
       "        </tr>\n",
       "        <tr>\n",
       "            <td>texts</td>\n",
       "            <td>array&lt;string&gt;</td>\n",
       "            <td>None</td>\n",
       "        </tr>\n",
       "        <tr>\n",
       "            <td>name_text</td>\n",
       "            <td>string</td>\n",
       "            <td>None</td>\n",
       "        </tr>\n",
       "    </tbody>\n",
       "</table>"
      ],
      "text/plain": [
       "+-----------+---------------+---------+\n",
       "|  col_name |     data_type | comment |\n",
       "+-----------+---------------+---------+\n",
       "|     field |        string |    None |\n",
       "|     codes | array<string> |    None |\n",
       "|     texts | array<string> |    None |\n",
       "| name_text |        string |    None |\n",
       "+-----------+---------------+---------+"
      ]
     },
     "execution_count": 220,
     "metadata": {},
     "output_type": "execute_result"
    }
   ],
   "source": [
    "%%sql\n",
    "\n",
    "DESCRIBE TABLE nessie.silver.md.number"
   ]
  },
  {
   "cell_type": "code",
   "execution_count": 221,
   "id": "55470f4c-57ba-4c53-8c45-635424ff05a7",
   "metadata": {},
   "outputs": [
    {
     "data": {
      "text/html": [
       "<table>\n",
       "    <thead>\n",
       "        <tr>\n",
       "            <th>col_name</th>\n",
       "            <th>data_type</th>\n",
       "            <th>comment</th>\n",
       "        </tr>\n",
       "    </thead>\n",
       "    <tbody>\n",
       "        <tr>\n",
       "            <td>field</td>\n",
       "            <td>string</td>\n",
       "            <td>None</td>\n",
       "        </tr>\n",
       "        <tr>\n",
       "            <td>codes</td>\n",
       "            <td>array&lt;string&gt;</td>\n",
       "            <td>None</td>\n",
       "        </tr>\n",
       "        <tr>\n",
       "            <td>texts</td>\n",
       "            <td>array&lt;string&gt;</td>\n",
       "            <td>None</td>\n",
       "        </tr>\n",
       "        <tr>\n",
       "            <td>name_text</td>\n",
       "            <td>string</td>\n",
       "            <td>None</td>\n",
       "        </tr>\n",
       "    </tbody>\n",
       "</table>"
      ],
      "text/plain": [
       "+-----------+---------------+---------+\n",
       "|  col_name |     data_type | comment |\n",
       "+-----------+---------------+---------+\n",
       "|     field |        string |    None |\n",
       "|     codes | array<string> |    None |\n",
       "|     texts | array<string> |    None |\n",
       "| name_text |        string |    None |\n",
       "+-----------+---------------+---------+"
      ]
     },
     "execution_count": 221,
     "metadata": {},
     "output_type": "execute_result"
    }
   ],
   "source": [
    "%%sql\n",
    "\n",
    "DESCRIBE TABLE nessie.silver.md.largecat"
   ]
  },
  {
   "cell_type": "code",
   "execution_count": null,
   "id": "05284aff-a8be-4ee2-a994-870391cd5b55",
   "metadata": {},
   "outputs": [],
   "source": []
  }
 ],
 "metadata": {
  "kernelspec": {
   "display_name": "Python 3 (ipykernel)",
   "language": "python",
   "name": "python3"
  },
  "language_info": {
   "codemirror_mode": {
    "name": "ipython",
    "version": 3
   },
   "file_extension": ".py",
   "mimetype": "text/x-python",
   "name": "python",
   "nbconvert_exporter": "python",
   "pygments_lexer": "ipython3",
   "version": "3.11.6"
  }
 },
 "nbformat": 4,
 "nbformat_minor": 5
}
